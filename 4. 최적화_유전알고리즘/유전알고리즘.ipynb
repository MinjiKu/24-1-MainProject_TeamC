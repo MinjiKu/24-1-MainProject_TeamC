{
 "cells": [
  {
   "cell_type": "code",
   "execution_count": 56,
   "metadata": {},
   "outputs": [],
   "source": [
    "import random\n",
    "import pandas as pd\n",
    "import numpy as np\n",
    "import pickle\n",
    "from deap import base, creator, tools, algorithms\n",
    "from sklearn.preprocessing import MinMaxScaler\n",
    "from sklearn.cluster import KMeans\n",
    "import warnings\n",
    "\n",
    "warnings.filterwarnings(\"ignore\")\n",
    "\n",
    "with open(r\"/Users/taejin/Desktop/데분 학회/급행버스/api 딕셔너리/getStationByRoute.pickle\", 'rb') as file:\n",
    "    getStationByRoute = pickle.load(file)\n",
    "\n",
    "with open(r'/Users/taejin/Downloads/getStationByPosList.pickle', 'rb') as f:\n",
    "    # 객체를 로드합니다.\n",
    "    getStationByPosList = pickle.load(f)\n",
    "\n",
    "with open(r'/Users/taejin/Desktop/데분 학회/급행버스/api 딕셔너리/노선별_정류장Kmeans정리.pickle', 'rb') as f:\n",
    "    # 객체를 로드합니다.\n",
    "    station_info = pickle.load(f)\n",
    "\n",
    "od = pd.read_csv('/Users/taejin/Desktop/데분 학회/급행버스/od_weekday_2.csv')\n"
   ]
  },
  {
   "cell_type": "markdown",
   "metadata": {},
   "source": [
    "### 1. 유전 알고리즘에 적용하기 위한 데이터 프레임 함수"
   ]
  },
  {
   "cell_type": "code",
   "execution_count": 57,
   "metadata": {},
   "outputs": [],
   "source": [
    "def travel_time_by_station(getStationByRoute, route_name):\n",
    "    df = getStationByRoute[route_name] # 피클에서 노선 정보 불러오기\n",
    "    df['arsId'] = df['arsId'].astype(int)\n",
    "    df = df[['busRouteNm', 'arsId', 'stationNm', 'seq', 'sectSpd', 'fullSectDist']] #필요한 행만 불러오기\n",
    "    df['travelTime'] = df['fullSectDist'].astype(int) * 0.06/ 30 #travel time 열 추가 (30km, 0.06 분으로 변환하기 위한 값 60min/1000km)\n",
    "    df['seq'] = df['seq'].astype(int) # 정류장 순서 타입 int로 변경\n",
    "\n",
    "    return df\n",
    "\n",
    "def passenger_onoff_num(od, route_name):\n",
    "    od['승객수'] = od['승객수'].astype(int)\n",
    "    od = od[od['노선명'] == route_name]\n",
    "    boarding_data = od.groupby('승차_정류장순번')['승객수'].sum().reset_index()\n",
    "    boarding_data.columns = ['정류장순번', '승차수']\n",
    "\n",
    "    # Group by 하차_정류장순번 and sum 승객수\n",
    "    alighting_data = od.groupby('하차_정류장순번')['승객수'].sum().reset_index()\n",
    "    alighting_data.columns = ['정류장순번', '하차수']\n",
    "\n",
    "    # Merge the boarding and alighting data on 정류장순번\n",
    "    result = pd.merge(boarding_data, alighting_data, on='정류장순번', how='outer').fillna(0)\n",
    "    result['승객총합'] = result['승차수'] + result['하차수']\n",
    "    result['소요시간'] = result[['승차수', '하차수']].max(axis=1) * 2.3 /60 #승하차시 소요시간(분)\n",
    "    #버스 10대/시간, 운행시간 18시간으로 나누어 버스 한대당 으로 변환\n",
    "    result[['승차수', '하차수', '승객총합', '소요시간']] = result[['승차수', '하차수', '승객총합', '소요시간']]/180\n",
    "    \n",
    "    return result\n",
    "\n",
    "\n",
    "def station_kmeans_result(station_df):\n",
    "    scaler = MinMaxScaler()\n",
    "    station_df[['dist', 'bus_cnt', '승하차총승객수']] = scaler.fit_transform(station_df[['dist', 'bus_cnt', '승하차총승객수']])\n",
    "\n",
    "    # K-means 군집화\n",
    "    kmeans = KMeans(n_clusters=4, random_state=42)\n",
    "    station_df['cluster'] = kmeans.fit_predict(station_df[['dist', 'bus_cnt', '승하차총승객수']])\n",
    "\n",
    "    # 높은 승객 수, 많은 버스 수, 짧은 거리의 정류장 선택\n",
    "    selected_cluster = station_df.groupby('cluster')['승하차총승객수'].mean().idxmax(axis=0)\n",
    "\n",
    "    # 급행 버스 정류장 선택\n",
    "    express_stations = station_df[station_df['cluster'] == selected_cluster]\n",
    "\n",
    "    return express_stations\n",
    "\n",
    "def gene_algorithm_data(route_name): #유전 알고리즘을 위한 정류장별 데이터\n",
    "    df1 = travel_time_by_station(getStationByRoute, route_name)\n",
    "    df2 = passenger_onoff_num(od, route_name)\n",
    "    df3 = station_kmeans_result(station_info[route_name])\n",
    "    \n",
    "    df3['cluster'] = 1\n",
    "    df3 = dict(zip(df3['arsId'].astype(int), df3['cluster']))\n",
    "    # display(df1)\n",
    "    # display(df2)\n",
    "\n",
    "    df1 = pd.merge(df1, df2, left_on = 'seq', right_on = '정류장순번', how = 'left')\n",
    "\n",
    "    df1['cluster'] = df1['arsId'].map(df3)\n",
    "    df1['cluster'].replace(np.nan, 0, inplace=True)\n",
    "\n",
    "    df1 = df1[['arsId', 'seq', 'travelTime', '승차수', '하차수', '승객총합', '소요시간','cluster']]\n",
    "\n",
    "    return df1"
   ]
  },
  {
   "cell_type": "markdown",
   "metadata": {},
   "source": [
    "### 2. 유전 알고리즘 구현"
   ]
  },
  {
   "cell_type": "markdown",
   "metadata": {},
   "source": [
    "#### 유전 알고리즘 목적 함수 구성"
   ]
  },
  {
   "cell_type": "code",
   "execution_count": 58,
   "metadata": {},
   "outputs": [],
   "source": [
    "# 가중치 파라미터 (조정해야 하는 값)\n",
    "a = 0.1\n",
    "b = 2\n",
    "\n",
    "# 정차 여부에 따른 승객 수 및 노선 소요 시간 계산 함수\n",
    "def total_passenger(individual, df):\n",
    "    df['cluster'] = individual\n",
    "    passenger = (df['승객총합'] * df['cluster']).sum()\n",
    "    return passenger\n",
    "\n",
    "def travel_time(individual, df):\n",
    "    df['cluster'] = individual\n",
    "    # 구간 통행속도\n",
    "    travel_time = df['travelTime'].sum()\n",
    "    # 가감속 시간\n",
    "    acc_time = (df['cluster'] * 11.6/60).sum()\n",
    "    # 승하차시간\n",
    "    onoff_time = (df['cluster'] * df['소요시간']).sum()\n",
    "    travel_time = travel_time + acc_time + onoff_time\n",
    "    return travel_time\n",
    "\n",
    "# 적합도 함수\n",
    "def fitness(individual):\n",
    "    total_pass = total_passenger(individual, df)\n",
    "    total_time = travel_time(individual, df)\n",
    "    fit_value = + b * total_time - a * total_pass + sum(individual)\n",
    "    return fit_value,\n",
    "\n",
    "# 개체를 초기화할 때 고정된 유전자를 설정하고 1의 개수를 제한하는 함수\n",
    "def initIndividual(icls, fixed_indices, fixed_values, num_stops):\n",
    "    individual = [0] * num_stops\n",
    "    num_ones = int(num_stops * 0.3)\n",
    "    \n",
    "    # 고정된 유전자 설정\n",
    "    for idx, value in zip(fixed_indices, fixed_values):\n",
    "        individual[idx] = value\n",
    "        if value == 1:\n",
    "            num_ones -= 1\n",
    "    \n",
    "    # 나머지 유전자 설정\n",
    "    available_indices = [i for i in range(num_stops) if i not in fixed_indices]\n",
    "    ones_indices = random.sample(available_indices, num_ones)\n",
    "    \n",
    "    for idx in ones_indices:\n",
    "        individual[idx] = 1\n",
    "    \n",
    "    return icls(individual)"
   ]
  },
  {
   "cell_type": "markdown",
   "metadata": {},
   "source": [
    "#### 유전 알고리즘"
   ]
  },
  {
   "cell_type": "code",
   "execution_count": 59,
   "metadata": {},
   "outputs": [],
   "source": [
    "def gene_algorithm(df, fixed_indices, fixed_values):\n",
    "    num_stops = len(df)\n",
    "\n",
    "    # 유전 알고리즘 설정\n",
    "    if not hasattr(creator, 'FitnessMin'):\n",
    "        creator.create(\"FitnessMin\", base.Fitness, weights=(-1.0,))  # 적합도 클래스 생성\n",
    "\n",
    "    if not hasattr(creator, 'Individual'):\n",
    "        creator.create(\"Individual\", list, fitness=creator.FitnessMin)  # 개체 클래스 생성\n",
    "\n",
    "\n",
    "    # 유전 알고리즘 도구상자\n",
    "    toolbox = base.Toolbox()\n",
    "    toolbox.register(\"attr_bool\", random.randint, 0, 1)  # 개체 유전자 초기화 속성\n",
    "    toolbox.register(\"individual\", initIndividual, creator.Individual, fixed_indices, fixed_values, num_stops)  # 개체 속성\n",
    "    toolbox.register(\"population\", tools.initRepeat, list, toolbox.individual)  # 모집단 속성\n",
    "\n",
    "    toolbox.register(\"evaluate\", fitness)  # 평가 속성, fitness(적합도 함수) 입력 필요\n",
    "    toolbox.register(\"mate\", tools.cxOnePoint)  # 교차 속성\n",
    "\n",
    "    # 고정된 유전자를 반영한 돌연변이 연산 정의\n",
    "    def mutFlipBitFixed(individual, indpb, fixed_indices):\n",
    "        for i in range(len(individual)):\n",
    "            if i not in fixed_indices and random.random() < indpb:\n",
    "                individual[i] = type(individual[i])(not individual[i])\n",
    "        return individual,\n",
    "\n",
    "    # 도구 상자에 돌연변이 연산 등록\n",
    "    toolbox.register(\"mutate\", mutFlipBitFixed, indpb=0.05, fixed_indices=fixed_indices)\n",
    "\n",
    "    # 교차 연산 수정\n",
    "    def cxOnePointFixed(ind1, ind2, fixed_indices):\n",
    "        size = min(len(ind1), len(ind2))\n",
    "        cxpoint = random.randint(1, size - 1)\n",
    "        for i in range(size):\n",
    "            if i not in fixed_indices and i < cxpoint:\n",
    "                ind1[i], ind2[i] = ind2[i], ind1[i]\n",
    "        return ind1, ind2\n",
    "\n",
    "    toolbox.register(\"select\", tools.selRoulette)\n",
    "\n",
    "    # 초기 개체군 생성\n",
    "    population = toolbox.population(n=50)\n",
    "\n",
    "    # 유전 알고리즘 실행\n",
    "    result_population = algorithms.eaSimple(population, toolbox, cxpb=0.5, mutpb=0.2, ngen=1000,\n",
    "                                            stats=None, halloffame=None, verbose=False)\n",
    "\n",
    "    # 최적 해 찾기\n",
    "    best_individual = tools.selBest(result_population[0], k=1)[0]\n",
    "    # print(\"Best Individual: \", best_individual)\n",
    "    # print(\"Fitness: \", fitness(best_individual)[0])\n",
    "\n",
    "    return best_individual"
   ]
  },
  {
   "cell_type": "markdown",
   "metadata": {},
   "source": [
    "### 3. 유전 알고리즘 결과 추출"
   ]
  },
  {
   "cell_type": "code",
   "execution_count": 67,
   "metadata": {},
   "outputs": [
    {
     "name": "stdout",
     "output_type": "stream",
     "text": [
      "            기존         급행\n",
      "143: 2.554608487654321, 2.253803549382716\n",
      "정차 정류장 개수 : 47\n",
      "기존 정류장 개수 : 113\n",
      "절감 시간 퍼센트 : 11.77\n",
      "Best Individual:  [0, 0, 0, 1, 1, 1, 1, 1, 0, 0, 0, 0, 1, 0, 0, 1, 0, 0, 1, 0, 1, 0, 1, 0, 1, 1, 1, 0, 1, 0, 0, 1, 0, 1, 0, 0, 0, 1, 0, 1, 1, 0, 1, 1, 1, 0, 0, 1, 1, 0, 1, 0, 0, 0, 1, 1, 0, 0, 0, 0, 1, 0, 0, 0, 0, 0, 0, 0, 1, 1, 0, 0, 0, 1, 1, 1, 1, 1, 0, 0, 0, 1, 1, 0, 0, 0, 0, 1, 0, 0, 1, 0, 0, 0, 0, 1, 0, 0, 0, 1, 1, 1, 0, 0, 0, 1, 0, 1, 0, 0, 1, 0, 1]\n",
      "----------------------------------------------------------------------------------\n",
      "\n",
      "            기존         급행\n",
      "160: 2.8847828703703704, 2.599221913580247\n",
      "정차 정류장 개수 : 54\n",
      "기존 정류장 개수 : 119\n",
      "절감 시간 퍼센트 : 9.9\n",
      "Best Individual:  [1, 0, 1, 0, 1, 0, 1, 0, 1, 1, 0, 0, 0, 0, 1, 0, 1, 0, 0, 0, 1, 1, 1, 0, 0, 0, 0, 0, 1, 0, 0, 0, 0, 1, 1, 0, 0, 0, 1, 1, 1, 1, 1, 1, 0, 1, 0, 1, 0, 1, 1, 1, 1, 1, 1, 0, 0, 0, 1, 0, 1, 0, 1, 0, 0, 1, 1, 0, 0, 1, 0, 0, 1, 0, 1, 0, 1, 1, 1, 1, 0, 0, 1, 0, 0, 1, 0, 0, 1, 0, 0, 1, 1, 0, 1, 0, 0, 0, 1, 0, 0, 0, 0, 1, 1, 0, 1, 0, 0, 0, 0, 0, 0, 0, 1, 1, 1, 0, 1]\n",
      "----------------------------------------------------------------------------------\n",
      "\n",
      "            기존         급행\n",
      "172: 2.006950154320988, 1.8450899691358025\n",
      "정차 정류장 개수 : 60\n",
      "기존 정류장 개수 : 104\n",
      "절감 시간 퍼센트 : 8.06\n",
      "Best Individual:  [1, 1, 1, 0, 0, 1, 0, 0, 0, 1, 1, 0, 0, 1, 1, 0, 1, 0, 1, 1, 0, 1, 1, 1, 1, 1, 0, 1, 1, 1, 1, 1, 1, 0, 1, 0, 0, 1, 1, 0, 0, 0, 0, 0, 0, 1, 1, 0, 0, 0, 0, 1, 0, 0, 1, 1, 1, 0, 0, 0, 1, 0, 0, 1, 0, 0, 1, 1, 0, 1, 1, 1, 1, 1, 1, 1, 1, 1, 0, 1, 1, 1, 0, 0, 0, 1, 1, 1, 0, 0, 1, 0, 0, 1, 1, 1, 0, 1, 1, 0, 1, 1, 1, 1]\n",
      "----------------------------------------------------------------------------------\n",
      "\n"
     ]
    }
   ],
   "source": [
    "route_names = ['143','160','172']\n",
    "result_dict={}\n",
    "\n",
    "for name in route_names:\n",
    "\n",
    "    df = gene_algorithm_data(name)\n",
    "    \n",
    "    # 고정된 유전자를 설정\n",
    "    fixed_indices = list(df[df['cluster'] == 1].index)  \n",
    "    fixed_values = [1 for _ in range(len(fixed_indices))]   # 고정된 유전자의 값\n",
    "    \n",
    "    result = gene_algorithm(df, fixed_indices, fixed_values)\n",
    "    exist = travel_time([1 for _ in range(len(df))], df)\n",
    "    new = travel_time(result, df)\n",
    "\n",
    "    print('            기존         급행')\n",
    "    print(f'{name}: {exist/60}, {new/60}')\n",
    "    print(f'정차 정류장 개수 : {sum(result)}')\n",
    "    print(f'기존 정류장 개수 : {len(result)}')\n",
    "    print(f'절감 시간 퍼센트 : { round(((exist/60)-(new/60)) * 100 / (exist/60), 2) }')\n",
    "    print(\"Best Individual: \", result)\n",
    "    print('----------------------------------------------------------------------------------\\n')\n",
    "\n",
    "    result_df = pd.DataFrame({\n",
    "                                'exist' : [1 for _ in range(len(df))], \n",
    "                                'new' : result})\n",
    "    result_dict[name] = result_df\n",
    "    "
   ]
  },
  {
   "cell_type": "markdown",
   "metadata": {},
   "source": [
    "### 4. 시각화를 위한 결과 내보내기"
   ]
  },
  {
   "cell_type": "code",
   "execution_count": 70,
   "metadata": {},
   "outputs": [],
   "source": [
    "import pickle\n",
    "\n",
    "with open(r\"/Users/taejin/Desktop/데분 학회/급행버스/api 딕셔너리/getStationByRoute.pickle\", 'rb') as file:\n",
    "    getStationByRoute = pickle.load(file)"
   ]
  },
  {
   "cell_type": "code",
   "execution_count": 77,
   "metadata": {},
   "outputs": [],
   "source": [
    "for name in route_names:\n",
    "    result_dict[name].to_csv(f'/Users/taejin/Desktop/데분 학회/급행버스/{name}번 버스.csv')\n",
    "    data = getStationByRoute[name]\n",
    "    data = data[['arsId', 'gpsX', 'gpsY', 'seq', 'stationNm', 'direction']]\n",
    "    data[['exist', 'new']] = result_dict[name][['exist', 'new']]\n",
    "    data['routeNm'] = name\n",
    "    data.to_csv(f'/Users/taejin/Desktop/데분 학회/급행버스/{name}번 버스.csv')"
   ]
  },
  {
   "cell_type": "markdown",
   "metadata": {},
   "source": [
    "### 5. 143번 노선 활용 이동시 걸리는 시간 예시 계산"
   ]
  },
  {
   "cell_type": "code",
   "execution_count": 96,
   "metadata": {},
   "outputs": [
    {
     "name": "stdout",
     "output_type": "stream",
     "text": [
      "17.848499999999998 15.07162037037037\n"
     ]
    }
   ],
   "source": [
    "df_143 = gene_algorithm_data('143')\n",
    "df_143 = df_143[(df_143['seq']>=8) & (df_143['seq']<=19)]\n",
    "exist_143 = travel_time([1 for _ in range(len(df_143))], df_143)\n",
    "new_143 = travel_time([1, 0, 0, 0, 0, 0, 0, 0, 0, 0, 0, 1], df_143)\n",
    "print(exist_143, new_143)"
   ]
  },
  {
   "cell_type": "code",
   "execution_count": 88,
   "metadata": {},
   "outputs": [
    {
     "data": {
      "text/plain": [
       "[1, 1, 1, 1, 1, 1, 1, 1, 1]"
      ]
     },
     "execution_count": 88,
     "metadata": {},
     "output_type": "execute_result"
    }
   ],
   "source": [
    "[1 for _ in range(len(df_143))]"
   ]
  },
  {
   "cell_type": "code",
   "execution_count": 89,
   "metadata": {},
   "outputs": [
    {
     "data": {
      "text/plain": [
       "18    1\n",
       "19    1\n",
       "20    1\n",
       "21    1\n",
       "22    1\n",
       "23    1\n",
       "24    1\n",
       "25    1\n",
       "26    1\n",
       "Name: cluster, dtype: int64"
      ]
     },
     "execution_count": 89,
     "metadata": {},
     "output_type": "execute_result"
    }
   ],
   "source": [
    "df_143['cluster']"
   ]
  },
  {
   "cell_type": "code",
   "execution_count": null,
   "metadata": {},
   "outputs": [],
   "source": []
  }
 ],
 "metadata": {
  "kernelspec": {
   "display_name": "Python 3",
   "language": "python",
   "name": "python3"
  },
  "language_info": {
   "codemirror_mode": {
    "name": "ipython",
    "version": 3
   },
   "file_extension": ".py",
   "mimetype": "text/x-python",
   "name": "python",
   "nbconvert_exporter": "python",
   "pygments_lexer": "ipython3",
   "version": "3.11.4"
  }
 },
 "nbformat": 4,
 "nbformat_minor": 2
}
