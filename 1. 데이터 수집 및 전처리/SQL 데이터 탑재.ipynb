{
 "cells": [
  {
   "cell_type": "code",
   "execution_count": 1,
   "metadata": {},
   "outputs": [],
   "source": [
    "import pandas as pd\n",
    "import os\n",
    "from sqlalchemy import create_engine"
   ]
  },
  {
   "cell_type": "markdown",
   "metadata": {},
   "source": [
    "### 1. 서울시버스노선별정류소정보"
   ]
  },
  {
   "cell_type": "code",
   "execution_count": null,
   "metadata": {},
   "outputs": [],
   "source": [
    "directory_path = '/Users/taejin/Desktop/데분 학회/급행버스/'\n",
    "\n",
    "# 파일 리스트에서 CSV 파일만 필터링\n",
    "xcls_files = [file for file in os.listdir(directory_path) if file.endswith('.xlsx')]\n",
    "\n",
    "# 데이터프레임 딕셔너리 생성\n",
    "dataframes = {}\n",
    "\n",
    "# 각 CSV 파일을 데이터프레임으로 읽어와서 딕셔너리에 저장\n",
    "for xcls_file in xcls_files:\n",
    "    file_path = os.path.join(directory_path, xcls_file)\n",
    "    df_name = os.path.splitext(xcls_file)[0]  # 파일명에서 확장자 제거하여 데이터프레임 이름으로 사용\n",
    "    dataframes[df_name] = pd.read_excel(file_path)"
   ]
  },
  {
   "cell_type": "code",
   "execution_count": null,
   "metadata": {},
   "outputs": [],
   "source": [
    "dataframes.keys()"
   ]
  },
  {
   "cell_type": "markdown",
   "metadata": {},
   "source": [
    "SQL 데이터 탑재"
   ]
  },
  {
   "cell_type": "code",
   "execution_count": null,
   "metadata": {},
   "outputs": [],
   "source": [
    "# 각 데이터프레임 출력 (필요 시)\n",
    "for df_name, df in dataframes.items():\n",
    "    print(f\"DataFrame Name: {df_name}\")\n",
    "    # print(df.head())  # 첫 5개 행 출력\n"
   ]
  },
  {
   "cell_type": "code",
   "execution_count": null,
   "metadata": {},
   "outputs": [],
   "source": [
    "# MySQL 데이터베이스 연결 설정\n",
    "user = 'root'\n",
    "password = 'ksyktj4730'\n",
    "host = 'localhost'\n",
    "port = '3306'  # 기본 포트 번호\n",
    "database = 'bus_stop_info'\n",
    "\n",
    "# SQLAlchemy 엔진 생성\n",
    "engine = create_engine(f'mysql+pymysql://{user}:{password}@{host}:{port}/{database}')\n",
    "name = list(dataframes.keys())\n",
    "\n",
    "# 데이터프레임을 MySQL 테이블에 로드\n",
    "for i, data in enumerate(list(dataframes.values())):\n",
    "    # df_name = f'{name[i]}'\n",
    "    df_name = 'bus_stop_info_by_route'\n",
    "    data.to_sql(name=df_name, con=engine, if_exists='replace', index=False)\n"
   ]
  },
  {
   "cell_type": "markdown",
   "metadata": {},
   "source": [
    "### 2. O/D 데이터 탑재"
   ]
  },
  {
   "cell_type": "code",
   "execution_count": null,
   "metadata": {},
   "outputs": [],
   "source": [
    "#버스 O/D데이터\n",
    "\n",
    "directory_path = '/Users/taejin/Desktop/데분 학회/급행버스/'\n",
    "\n",
    "# 파일 리스트에서 CSV 파일만 필터링\n",
    "csv_files = [file for file in os.listdir(directory_path) if file.endswith('.csv')]\n",
    "\n",
    "# 데이터프레임 딕셔너리 생성\n",
    "dataframes = {}\n",
    "\n",
    "# 각 CSV 파일을 데이터프레임으로 읽어와서 딕셔너리에 저장\n",
    "for csv_file in csv_files:\n",
    "    file_path = os.path.join(directory_path, csv_file)\n",
    "    df_name = os.path.splitext(csv_file)[0]  # 파일명에서 확장자 제거하여 데이터프레임 이름으로 사용\n",
    "    dataframes[df_name] = pd.read_csv(file_path, encoding='utf-8')\n",
    "\n",
    "# 각 데이터프레임 출력 (필요 시)\n",
    "for df_name, df in dataframes.items():\n",
    "    print(f\"DataFrame Name: {df_name}\")\n",
    "    # print(df.head())  # 첫 5개 행 출력\n"
   ]
  },
  {
   "cell_type": "code",
   "execution_count": null,
   "metadata": {},
   "outputs": [],
   "source": [
    "# MySQL 데이터베이스 연결 설정\n",
    "user = 'root'\n",
    "password = 'ksyktj4730'\n",
    "host = 'localhost'\n",
    "port = '3306'  # 기본 포트 번호\n",
    "database = 'modified_data'\n",
    "\n",
    "# SQLAlchemy 엔진 생성\n",
    "engine = create_engine(f'mysql+pymysql://{user}:{password}@{host}:{port}/{database}')\n",
    "name = list(dataframes.keys())\n",
    "\n",
    "# 데이터프레임을 MySQL 테이블에 로드\n",
    "for i, data in enumerate(list(dataframes.values())):\n",
    "    df_name = f'{name[i]}'\n",
    "    data.to_sql(name=df_name, con=engine, if_exists='replace', index=False)"
   ]
  },
  {
   "cell_type": "markdown",
   "metadata": {},
   "source": [
    "### 3. API 데이터 탑재"
   ]
  },
  {
   "cell_type": "code",
   "execution_count": null,
   "metadata": {},
   "outputs": [],
   "source": [
    "import pickle\n",
    "\n",
    "# load data\n",
    "with open('/Users/taejin/Desktop/데분 학회/급행버스/getStationByRoute.pickle', 'rb') as fr:\n",
    "    station_by_route_dict = pickle.load(fr)"
   ]
  },
  {
   "cell_type": "code",
   "execution_count": null,
   "metadata": {},
   "outputs": [],
   "source": [
    "# MySQL 데이터베이스 연결 설정\n",
    "user = 'root'\n",
    "password = 'ksyktj4730'\n",
    "host = 'localhost'\n",
    "port = '3306'  # 기본 포트 번호\n",
    "database = 'modified_data'\n",
    "\n",
    "# SQLAlchemy 엔진 생성\n",
    "engine = create_engine(f'mysql+pymysql://{user}:{password}@{host}:{port}/{database}')\n",
    "\n",
    "df_name = 'api_station_by_route'\n",
    "station_by_route_df.to_sql(name=df_name, con=engine, if_exists='replace', index=False)"
   ]
  },
  {
   "cell_type": "markdown",
   "metadata": {},
   "source": []
  },
  {
   "cell_type": "markdown",
   "metadata": {},
   "source": []
  }
 ],
 "metadata": {
  "kernelspec": {
   "display_name": "Python 3",
   "language": "python",
   "name": "python3"
  },
  "language_info": {
   "codemirror_mode": {
    "name": "ipython",
    "version": 3
   },
   "file_extension": ".py",
   "mimetype": "text/x-python",
   "name": "python",
   "nbconvert_exporter": "python",
   "pygments_lexer": "ipython3",
   "version": "3.11.4"
  }
 },
 "nbformat": 4,
 "nbformat_minor": 2
}
