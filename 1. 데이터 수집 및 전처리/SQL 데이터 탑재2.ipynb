{
 "cells": [
  {
   "cell_type": "markdown",
   "metadata": {},
   "source": [
    "SQL 데이터 탑재"
   ]
  },
  {
   "cell_type": "code",
   "execution_count": 19,
   "metadata": {},
   "outputs": [],
   "source": [
    "import pandas as pd\n",
    "import os\n",
    "from sqlalchemy import create_engine"
   ]
  },
  {
   "cell_type": "code",
   "execution_count": 35,
   "metadata": {},
   "outputs": [
    {
     "name": "stdout",
     "output_type": "stream",
     "text": [
      "DataFrame Name: od_weekday\n",
      "DataFrame Name: od_weekend\n"
     ]
    }
   ],
   "source": [
    "#버스 O/D데이터\n",
    "\n",
    "directory_path = '/Users/taejin/Desktop/데분 학회/급행버스/'\n",
    "\n",
    "# 파일 리스트에서 CSV 파일만 필터링\n",
    "csv_files = [file for file in os.listdir(directory_path) if file.endswith('.csv')]\n",
    "\n",
    "# 데이터프레임 딕셔너리 생성\n",
    "dataframes = {}\n",
    "\n",
    "# 각 CSV 파일을 데이터프레임으로 읽어와서 딕셔너리에 저장\n",
    "for csv_file in csv_files:\n",
    "    file_path = os.path.join(directory_path, csv_file)\n",
    "    df_name = os.path.splitext(csv_file)[0]  # 파일명에서 확장자 제거하여 데이터프레임 이름으로 사용\n",
    "    dataframes[df_name] = pd.read_csv(file_path, encoding='utf-8')\n",
    "\n",
    "# 각 데이터프레임 출력 (필요 시)\n",
    "for df_name, df in dataframes.items():\n",
    "    print(f\"DataFrame Name: {df_name}\")\n",
    "    # print(df.head())  # 첫 5개 행 출력\n",
    "\n"
   ]
  },
  {
   "cell_type": "code",
   "execution_count": 36,
   "metadata": {},
   "outputs": [],
   "source": [
    "# MySQL 데이터베이스 연결 설정\n",
    "user = 'root'\n",
    "password = 'ksyktj4730'\n",
    "host = 'localhost'\n",
    "port = '3306'  # 기본 포트 번호\n",
    "database = 'modified_data'\n",
    "\n",
    "# SQLAlchemy 엔진 생성\n",
    "engine = create_engine(f'mysql+pymysql://{user}:{password}@{host}:{port}/{database}')\n",
    "name = list(dataframes.keys())\n",
    "\n",
    "# 데이터프레임을 MySQL 테이블에 로드\n",
    "for i, data in enumerate(list(dataframes.values())):\n",
    "    df_name = f'{name[i]}'\n",
    "    data.to_sql(name=df_name, con=engine, if_exists='replace', index=False)"
   ]
  },
  {
   "cell_type": "code",
   "execution_count": 23,
   "metadata": {},
   "outputs": [
    {
     "name": "stdout",
     "output_type": "stream",
     "text": [
      "select * from OD_by_route_weekend.노선별OD_20230820\n",
      "union all\n",
      "select * from OD_by_route_weekend.노선별OD_20231126\n",
      "union all\n",
      "select * from OD_by_route_weekend.노선별OD_20231125\n",
      "union all\n",
      "select * from OD_by_route_weekend.노선별OD_20230819\n",
      "union all\n",
      "select * from OD_by_route_weekend.노선별OD_20230923\n",
      "union all\n",
      "select * from OD_by_route_weekend.노선별OD_20231022\n",
      "union all\n",
      "select * from OD_by_route_weekend.노선별OD_20231223\n",
      "union all\n",
      "select * from OD_by_route_weekend.노선별OD_20231021\n",
      "union all\n",
      "select * from OD_by_route_weekend.노선별OD_20230924\n",
      "union all\n",
      "select * from OD_by_route_weekend.노선별OD_20231224\n",
      "union all\n",
      "select * from OD_by_route_weekend.노선별OD_20230122\n",
      "union all\n",
      "select * from OD_by_route_weekend.노선별OD_20230121\n",
      "union all\n",
      "select * from OD_by_route_weekend.노선별OD_20230326\n",
      "union all\n",
      "select * from OD_by_route_weekend.노선별OD_20230722\n",
      "union all\n",
      "select * from OD_by_route_weekend.노선별OD_20230520\n",
      "union all\n",
      "select * from OD_by_route_weekend.노선별OD_20230521\n",
      "union all\n",
      "select * from OD_by_route_weekend.노선별OD_20230723\n",
      "union all\n",
      "select * from OD_by_route_weekend.노선별OD_20230325\n",
      "union all\n",
      "select * from OD_by_route_weekend.노선별OD_20230624\n",
      "union all\n",
      "select * from OD_by_route_weekend.노선별OD_20230625\n",
      "union all\n",
      "select * from OD_by_route_weekend.노선별OD_20230423\n",
      "union all\n",
      "select * from OD_by_route_weekend.노선별OD_20230225\n",
      "union all\n",
      "select * from OD_by_route_weekend.노선별OD_20230422\n",
      "union all\n",
      "select * from OD_by_route_weekend.노선별OD_20230226\n",
      "union all\n"
     ]
    }
   ],
   "source": [
    "for data in list(dataframes.keys()):\n",
    "    print(f'select * from OD_by_route_weekend.{data}')\n",
    "    print('union all')"
   ]
  },
  {
   "cell_type": "code",
   "execution_count": null,
   "metadata": {},
   "outputs": [],
   "source": []
  }
 ],
 "metadata": {
  "kernelspec": {
   "display_name": "Python 3",
   "language": "python",
   "name": "python3"
  },
  "language_info": {
   "codemirror_mode": {
    "name": "ipython",
    "version": 3
   },
   "file_extension": ".py",
   "mimetype": "text/x-python",
   "name": "python",
   "nbconvert_exporter": "python",
   "pygments_lexer": "ipython3",
   "version": "3.11.4"
  }
 },
 "nbformat": 4,
 "nbformat_minor": 2
}
