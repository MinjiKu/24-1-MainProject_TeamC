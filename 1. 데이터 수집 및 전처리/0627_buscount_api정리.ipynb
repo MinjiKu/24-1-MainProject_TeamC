{
 "cells": [
  {
   "cell_type": "code",
   "execution_count": 2,
   "metadata": {},
   "outputs": [],
   "source": [
    "import pandas as pd\n",
    "import requests\n",
    "import json\n",
    "import xmltodict\n",
    "import pickle\n",
    "\n",
    "def bus_cnt(bus_no):\n",
    "    info = pd.read_csv(r\"C:\\Users\\0811m\\Desktop\\DScover\\메인프로젝트\\서울시노선기본정보_수정.csv\")\n",
    "    station_info = pd.read_csv(fr\"C:\\Users\\0811m\\Desktop\\DScover\\메인프로젝트\\arsId_{bus_no}.csv\")\n",
    "    station_ars = list(station_info[\"arsId\"].unique().astype(int).astype(str))\n",
    "\n",
    "    api_dict = {}\n",
    "    servicekey = 'Z%2FDKASzEwlIASKLfw%2FQQNTrexprISYo9aeuVrpI3dL2RyUpavjBPY6oJ5EPc5A6dE0XCA2HEURSO%2BOmu8lfw7w%3D%3D'\n",
    "    for arsid in station_ars:\n",
    "        def fetch_data(arsid):\n",
    "            # API로부터 데이터 요청\n",
    "            url = f'http://ws.bus.go.kr/api/rest/stationinfo/getRouteByStation?ServiceKey={servicekey}&arsId={arsid}'\n",
    "            response = requests.get(url)\n",
    "            contents = response.text\n",
    "\n",
    "            # XML을 JSON으로 변경\n",
    "            data_dict = xmltodict.parse(contents)\n",
    "            return data_dict\n",
    "\n",
    "        # 데이터 요청 시도\n",
    "        data_dict = fetch_data(arsid)\n",
    "\n",
    "        # 결과가 없는 경우, arsid의 앞자리에 0을 붙여서 다시 시도\n",
    "        if data_dict['ServiceResult']['msgHeader']['headerMsg'] == '결과가 없습니다.':\n",
    "            arsid = '0' + arsid\n",
    "            data_dict = fetch_data(arsid)\n",
    "\n",
    "        # itemList 추출\n",
    "        try:\n",
    "            item_list = data_dict['ServiceResult']['msgBody']['itemList']\n",
    "        except (TypeError, KeyError):\n",
    "            print(f\"Error: Cannot extract itemList for station {arsid}\")\n",
    "            continue\n",
    "\n",
    "        # 각 항목을 데이터프레임으로 변환하여 리스트에 추가\n",
    "        dfs = []\n",
    "        for item in item_list:\n",
    "            df = pd.DataFrame([item])\n",
    "            dfs.append(df)\n",
    "\n",
    "        # 리스트에 있는 모든 데이터프레임을 합쳐서 하나의 데이터프레임으로 만듦\n",
    "        combined_df = pd.concat(dfs, ignore_index=True)\n",
    "\n",
    "        # 노선명을 키로 하여 딕셔너리에 추가\n",
    "        api_dict[arsid] = combined_df\n",
    "\n",
    "\n",
    "        with open(rf'C:\\Users\\0811m\\Desktop\\DScover\\메인프로젝트\\getRouteByStation_{bus_no}.pickle','wb') as fw:\n",
    "            pickle.dump(api_dict, fw)\n"
   ]
  },
  {
   "cell_type": "code",
   "execution_count": null,
   "metadata": {},
   "outputs": [],
   "source": [
    "bus_cnt(\"100\")\n",
    "bus_cnt(\"140\")\n",
    "bus_cnt(\"143\")\n",
    "bus_cnt(\"150\")"
   ]
  },
  {
   "cell_type": "code",
   "execution_count": 3,
   "metadata": {},
   "outputs": [
    {
     "name": "stderr",
     "output_type": "stream",
     "text": [
      "C:\\Users\\Public\\Documents\\ESTsoft\\CreatorTemp\\ipykernel_42776\\3419434007.py:10: RuntimeWarning: invalid value encountered in cast\n",
      "  station_ars = list(station_info[\"arsId\"].unique().astype(int).astype(str))\n"
     ]
    },
    {
     "name": "stdout",
     "output_type": "stream",
     "text": [
      "Error: Cannot extract itemList for station 0-2147483648\n"
     ]
    },
    {
     "name": "stderr",
     "output_type": "stream",
     "text": [
      "C:\\Users\\Public\\Documents\\ESTsoft\\CreatorTemp\\ipykernel_42776\\3419434007.py:10: RuntimeWarning: invalid value encountered in cast\n",
      "  station_ars = list(station_info[\"arsId\"].unique().astype(int).astype(str))\n"
     ]
    },
    {
     "name": "stdout",
     "output_type": "stream",
     "text": [
      "Error: Cannot extract itemList for station 0-2147483648\n"
     ]
    }
   ],
   "source": [
    "bus_cnt(\"151\")\n",
    "bus_cnt(\"160\")\n",
    "bus_cnt(\"162\")\n",
    "bus_cnt(\"171\")\n",
    "bus_cnt(\"172\")"
   ]
  },
  {
   "cell_type": "code",
   "execution_count": 5,
   "metadata": {},
   "outputs": [],
   "source": [
    "import pickle\n",
    "import pandas as pd\n",
    "\n",
    "bus_numbers = [\"100\", \"140\", \"143\", \"150\", \"151\", \"160\", \"162\", \"171\", \"172\"]\n",
    "\n",
    "# 각 노선에 대해 처리\n",
    "for bus_no in bus_numbers:\n",
    "    # pickle 파일 로드\n",
    "    file_path = f'C:\\\\Users\\\\0811m\\\\Desktop\\\\DScover\\\\메인프로젝트\\\\getRouteByStation_{bus_no}.pickle'\n",
    "    with open(file_path, 'rb') as handle:\n",
    "        getRouteByStation = pickle.load(handle)\n",
    "\n",
    "    # 결과를 저장할 리스트 초기화\n",
    "    result_list = []\n",
    "\n",
    "    # 각 arsId에 대해 busRouteAbrv의 unique 값을 count\n",
    "    for arsid, df in getRouteByStation.items():\n",
    "        bus_count = df.shape[0]\n",
    "        result_list.append({'arsId': arsid, 'bus_cnt': bus_count})\n",
    "\n",
    "    # 리스트를 데이터프레임으로 변환\n",
    "    result_df = pd.DataFrame(result_list)\n",
    "\n",
    "    # 노선별 결과를 CSV 파일로 저장\n",
    "    output_file = f'C:\\\\Users\\\\0811m\\\\Desktop\\\\DScover\\\\메인프로젝트\\\\bus_{bus_no}_route_counts.csv'\n",
    "    result_df.to_csv(output_file, index=False)\n"
   ]
  },
  {
   "cell_type": "code",
   "execution_count": null,
   "metadata": {},
   "outputs": [],
   "source": []
  }
 ],
 "metadata": {
  "kernelspec": {
   "display_name": "Python 3",
   "language": "python",
   "name": "python3"
  },
  "language_info": {
   "codemirror_mode": {
    "name": "ipython",
    "version": 3
   },
   "file_extension": ".py",
   "mimetype": "text/x-python",
   "name": "python",
   "nbconvert_exporter": "python",
   "pygments_lexer": "ipython3",
   "version": "3.8.2"
  }
 },
 "nbformat": 4,
 "nbformat_minor": 2
}
